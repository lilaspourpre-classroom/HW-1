{
 "cells": [
  {
   "cell_type": "markdown",
   "metadata": {},
   "source": [
    "# Домашнее задание №1 (73 балла)\n",
    "\n",
    "## дедлайн 20 сентября 23:59\n",
    "\n",
    "\n",
    "\n",
    "Цель:\n",
    "\n",
    "Отработать навыки работы с основными типами данных в Python.\n",
    "Отработать навыки работы с основными структурами данных в Python."
   ]
  },
  {
   "cell_type": "markdown",
   "metadata": {},
   "source": [
    "**NB!** Задания необходимо выполнять таким образом, что переменную/-ые можно было заменить на схожее слово/число/текст/список/и т.д., при этом задание все равно выполнялось бы верно."
   ]
  },
  {
   "cell_type": "markdown",
   "metadata": {},
   "source": [
    "### Часть 1. Переменные, арифметические операции (9 баллов)"
   ]
  },
  {
   "cell_type": "markdown",
   "metadata": {},
   "source": [
    "1. (1 балл) Создайте две переменные $a$ и $b$ и присвойте им значение 100 и 25, соответственно.\n",
    "Какой тип имеют эти переменные?"
   ]
  },
  {
   "cell_type": "code",
   "execution_count": null,
   "metadata": {},
   "outputs": [],
   "source": [
    "# your code here"
   ]
  },
  {
   "cell_type": "markdown",
   "metadata": {},
   "source": [
    "2. (1 балл) Посчитайте:\n",
    "\n",
    "    * разность a - b\n",
    "\n",
    "    * сумму a + b"
   ]
  },
  {
   "cell_type": "code",
   "execution_count": null,
   "metadata": {},
   "outputs": [],
   "source": [
    "# your code here"
   ]
  },
  {
   "cell_type": "markdown",
   "metadata": {},
   "source": [
    "3. (1 балл) Посчитать значение выражения: $$ 3^{14} $$"
   ]
  },
  {
   "cell_type": "code",
   "execution_count": null,
   "metadata": {},
   "outputs": [],
   "source": [
    "# your code here"
   ]
  },
  {
   "cell_type": "markdown",
   "metadata": {},
   "source": [
    "4. (1 балл) Посчитать значение выражения: $$ 1! + 2! + 3! + 4! $$"
   ]
  },
  {
   "cell_type": "code",
   "execution_count": null,
   "metadata": {},
   "outputs": [],
   "source": [
    "# your code here"
   ]
  },
  {
   "cell_type": "markdown",
   "metadata": {},
   "source": [
    "5. (1 балл) Температура в комнате: $$24^oC$$ посчитать, сколько в комнате градусов в фарингейтах"
   ]
  },
  {
   "cell_type": "code",
   "execution_count": null,
   "metadata": {},
   "outputs": [],
   "source": [
    "c = 24\n",
    "# your code here"
   ]
  },
  {
   "cell_type": "markdown",
   "metadata": {},
   "source": [
    "6. (2 балла) На первом курсе прикладной культурологии 23 студента. Сколькими способами можно выбрать 6 из них, если порядок выбора для нас не имеет значения?"
   ]
  },
  {
   "cell_type": "code",
   "execution_count": null,
   "metadata": {},
   "outputs": [],
   "source": [
    "# your code here"
   ]
  },
  {
   "cell_type": "markdown",
   "metadata": {},
   "source": [
    "7. (2 балла) Вероятность попасть в 10-ку на мишени - 0.1, в 9-ку - 0.2, в 8-ку 0.2, в 7-ку - 0.3, в молоко - 0.2 .\n",
    "\n",
    "Какова вероятность двумя бросками набрать не меньше 18-и баллов?"
   ]
  },
  {
   "cell_type": "code",
   "execution_count": null,
   "metadata": {},
   "outputs": [],
   "source": [
    "# your code here"
   ]
  },
  {
   "cell_type": "markdown",
   "metadata": {},
   "source": [
    "### Часть 2. Условия (9 баллов)"
   ]
  },
  {
   "cell_type": "markdown",
   "metadata": {},
   "source": [
    "6. (1 балл) Дано целое число $x$. Проверить, является ли число положительным."
   ]
  },
  {
   "cell_type": "code",
   "execution_count": 4,
   "metadata": {},
   "outputs": [],
   "source": [
    "x = 10  # сюда можно будет подставить любое число и ответ будет правильным\n",
    "# your code here"
   ]
  },
  {
   "cell_type": "markdown",
   "metadata": {},
   "source": [
    "7. (1 балл) Дано число $x$  типа `float` (с плавающей запятой). Проверить, является ли это число целым.\n",
    "\n",
    "_Hint: можно загуглить 'преобразование типов, python'_"
   ]
  },
  {
   "cell_type": "code",
   "execution_count": null,
   "metadata": {},
   "outputs": [],
   "source": [
    "# your code here"
   ]
  },
  {
   "cell_type": "markdown",
   "metadata": {},
   "source": [
    "8. (1 балл) Дано целое $x$. Написать значение $|x|$"
   ]
  },
  {
   "cell_type": "code",
   "execution_count": null,
   "metadata": {},
   "outputs": [],
   "source": [
    "x = -4  # сюда можно будет подставить любое число и ответ будет правильным\n",
    "# your code here"
   ]
  },
  {
   "cell_type": "markdown",
   "metadata": {},
   "source": [
    "9. (1 балл) Даны числа $a$ и $b$. Если $a$ делится на $b$ написать \"делится\", иначе написать остаток от деления."
   ]
  },
  {
   "cell_type": "code",
   "execution_count": null,
   "metadata": {},
   "outputs": [],
   "source": [
    "# your code here"
   ]
  },
  {
   "cell_type": "markdown",
   "metadata": {},
   "source": [
    "10. (1 балл) Точка задана своими координатами $x$ и $y$. Проверить, лежит ли точка внутри единичного круга с центром в начале координат <img src=\"https://scontent-atl3-1.cdninstagram.com/v/t51.2885-15/e35/c8.0.303.303a/47584968_1972012716214500_7419946013178478165_n.jpg?_nc_ht=scontent-atl3-1.cdninstagram.com&_nc_cat=100&_nc_ohc=1DUsbcDbMdEAX9vpPP6&oh=9dc9062190e2d734bce57a876cf9d197&oe=5F65C97C\">"
   ]
  },
  {
   "cell_type": "code",
   "execution_count": null,
   "metadata": {},
   "outputs": [],
   "source": [
    "# your code here"
   ]
  },
  {
   "cell_type": "markdown",
   "metadata": {},
   "source": [
    "11. (2 балла) Даны числа $x,y,z$ . Проверить, существует ли треугольник, с длинами сторон равными этим величинам."
   ]
  },
  {
   "cell_type": "code",
   "execution_count": null,
   "metadata": {},
   "outputs": [],
   "source": [
    "# your code here"
   ]
  },
  {
   "cell_type": "markdown",
   "metadata": {},
   "source": [
    "12. (2 балла) Дан номер дня в году (невысокосного). Написать, какой в этот день был месяц, и какой день недели если 1 января пришелся на понедельник."
   ]
  },
  {
   "cell_type": "code",
   "execution_count": null,
   "metadata": {},
   "outputs": [],
   "source": [
    "# your code here"
   ]
  },
  {
   "cell_type": "markdown",
   "metadata": {},
   "source": [
    "### Часть 3. Строки (5 баллов)"
   ]
  },
  {
   "cell_type": "markdown",
   "metadata": {},
   "source": [
    "13. (1 балл) Создайте две переменные типа `str` (строка) со значениями hello и world (например s1 и s2). Сложите их и напечатайте результат."
   ]
  },
  {
   "cell_type": "code",
   "execution_count": null,
   "metadata": {},
   "outputs": [],
   "source": [
    "# your code here"
   ]
  },
  {
   "cell_type": "markdown",
   "metadata": {},
   "source": [
    "14. (1 балл) Используйте на переменную со значением hello методы строк:\n",
    "\n",
    "`.capitalize()`\n",
    "\n",
    "`.lower()`\n",
    "\n",
    "`.upper()`\n",
    "\n",
    "Опишите что они делают в комментарии (пишите ответ как комментарий к пустой строке)"
   ]
  },
  {
   "cell_type": "code",
   "execution_count": null,
   "metadata": {},
   "outputs": [],
   "source": [
    "# your code here"
   ]
  },
  {
   "cell_type": "markdown",
   "metadata": {},
   "source": [
    "15. (1 балл)\n",
    "\n",
    "    - Воспользуйтесь функцией `len()` для того чтобы посчитать длину (количество **символов**) детской песни Солнечный круг \n",
    "    - Посчитайте длину (количество символов) в песне Let it be\n",
    "    - Какая из песен длиннее и на сколько **символов**?\n",
    "\n",
    "_Hint: тексты обеих песен приведены ниже._\n",
    "\n",
    "_Hint 2: `len()` это не метод, а функция_"
   ]
  },
  {
   "cell_type": "code",
   "execution_count": 101,
   "metadata": {},
   "outputs": [],
   "source": [
    "sun_circle  = '''Солнечный круг, небо вокруг\n",
    "Это рисунок мальчишки\n",
    "Нарисовал он на листке\n",
    "И подписал в уголке\n",
    "Пусть всегда будет солнце\n",
    "Пусть всегда будет небо\n",
    "Пусть всегда будет мама\n",
    "Пусть всегда буду я\n",
    "Пусть всегда будет солнце\n",
    "Пусть всегда будет небо\n",
    "Пусть всегда будет мама\n",
    "Пусть всегда буду я\n",
    "Милый мой друг, добрый мой друг\n",
    "Людям так хочется мира\n",
    "И в тридцать пять сердце опять\n",
    "Не устаёт повторять\n",
    "Пусть всегда будет солнце\n",
    "Пусть всегда будет небо\n",
    "Пусть всегда будет мама\n",
    "Пусть всегда буду я\n",
    "Пусть всегда будет солнце\n",
    "Пусть всегда будет небо\n",
    "Пусть всегда будет мама\n",
    "Пусть всегда буду я\n",
    "Тише солдат, слышишь солдат\n",
    "Люди пугаются взрывов\n",
    "Тысячи глаз в небо глядят\n",
    "Губы упрямо твердят\n",
    "Пусть всегда будет солнце\n",
    "Пусть всегда будет небо\n",
    "Пусть всегда будет мама\n",
    "Пусть всегда буду я\n",
    "Пусть всегда будет солнце\n",
    "Пусть всегда будет небо\n",
    "Пусть всегда будет мама\n",
    "Пусть всегда буду я\n",
    "Против беды, против войны\n",
    "Станем за наших мальчишек\n",
    "Солнце навек, счастье навек\n",
    "Так повелел человек\n",
    "Пусть всегда будет солнце\n",
    "Пусть всегда будет небо\n",
    "Пусть всегда будет мама\n",
    "Пусть всегда буду я\n",
    "Пусть всегда будет солнце\n",
    "Пусть всегда будет небо\n",
    "Пусть всегда будет мама\n",
    "Пусть всегда буду я'''\n",
    "\n",
    "\n",
    "let_it_be = '''\n",
    "When I find myself in times of trouble, Mother Mary comes to me\n",
    "Speaking words of wisdom, let it be\n",
    "And in my hour of darkness she is standing right in front of me\n",
    "Speaking words of wisdom, let it be\n",
    "Let it be, let it be, let it be, let it be\n",
    "Whisper words of wisdom, let it be\n",
    "And when the broken-hearted people living in the world agree\n",
    "There will be an answer, let it be\n",
    "For though they may be parted, there is still a chance that they will see\n",
    "There will be an answer, let it be\n",
    "Let it be, let it be, let it be, let it be\n",
    "Yeah, there will be an answer, let it be\n",
    "Let it be, let it be, let it be, let it be\n",
    "Whisper words of wisdom, let it be\n",
    "Let it be, let it be, let it be, yeah, let it be\n",
    "Whisper words of wisdom, let it be\n",
    "And when the night is cloudy there is still a light that shines on me\n",
    "Shine until tomorrow, let it be\n",
    "I wake up to the sound of music, Mother Mary comes to me\n",
    "Speaking words of wisdom, let it be\n",
    "Let it be, let it be, let it be, yeah, let it be\n",
    "There will be an answer, let it be\n",
    "Let it be, let it be, let it be, yeah, let it be\n",
    "There will be an answer, let it be\n",
    "Let it be, let it be, let it be, yeah, let it be\n",
    "Whisper words of wisdom, let it be\n",
    "'''"
   ]
  },
  {
   "cell_type": "code",
   "execution_count": 10,
   "metadata": {},
   "outputs": [],
   "source": [
    "# your code here"
   ]
  },
  {
   "cell_type": "markdown",
   "metadata": {},
   "source": [
    "16. (2 балла)\n",
    "\n",
    "    - Чего больше: слов \"Пусть всегда\" в детской песне или слов \"Let it be\" в песне ливерпульской четверки?\n",
    "\n",
    "*Hint: Воспользуйтесь методом `.count()`*\n",
    "\n",
    "*Hint 2: Слова \"Let it be\" встречаются в песне как с заглавной, так и со строчной буквы, учтите это при подсчете*"
   ]
  },
  {
   "cell_type": "code",
   "execution_count": 11,
   "metadata": {},
   "outputs": [],
   "source": [
    "# your code here"
   ]
  },
  {
   "cell_type": "markdown",
   "metadata": {},
   "source": [
    "### Часть 4. Циклы (9 баллов)"
   ]
  },
  {
   "cell_type": "markdown",
   "metadata": {},
   "source": [
    "17. (1 балл) Напишите бесконечный цикл (любой)"
   ]
  },
  {
   "cell_type": "code",
   "execution_count": null,
   "metadata": {},
   "outputs": [],
   "source": []
  },
  {
   "cell_type": "markdown",
   "metadata": {},
   "source": [
    "18. (1 балл) Вывести числа от 5 до 20"
   ]
  },
  {
   "cell_type": "code",
   "execution_count": null,
   "metadata": {},
   "outputs": [],
   "source": [
    "# your code here"
   ]
  },
  {
   "cell_type": "markdown",
   "metadata": {},
   "source": [
    "19. (1 балл) Вывести все числа от 5 до 20 , кратные 3-м."
   ]
  },
  {
   "cell_type": "code",
   "execution_count": null,
   "metadata": {},
   "outputs": [],
   "source": [
    "# your code here"
   ]
  },
  {
   "cell_type": "markdown",
   "metadata": {},
   "source": [
    "20. (1 балл) Найти сумму натуральных чисел от 0 до n включительно"
   ]
  },
  {
   "cell_type": "code",
   "execution_count": 1,
   "metadata": {},
   "outputs": [],
   "source": [
    "n = 11\n",
    "\n",
    "# your code here"
   ]
  },
  {
   "cell_type": "markdown",
   "metadata": {},
   "source": [
    "21. (1 балл) Для первых 100 натуральных чисел $n$ проверить факт: $$1+3+5+7+...+(2n-1)=n^2$$"
   ]
  },
  {
   "cell_type": "code",
   "execution_count": null,
   "metadata": {},
   "outputs": [],
   "source": [
    "# your code here"
   ]
  },
  {
   "cell_type": "markdown",
   "metadata": {},
   "source": [
    "22. (2 балла) Вывести факториал числа $n$ (при помощи цикла). Такое задание бывает на собеседованиях."
   ]
  },
  {
   "cell_type": "code",
   "execution_count": null,
   "metadata": {},
   "outputs": [],
   "source": [
    "n = 5\n",
    "\n",
    "# your code here"
   ]
  },
  {
   "cell_type": "markdown",
   "metadata": {},
   "source": [
    "23. (2 балла) Числа Фибоначи определяются следующим образом:\n",
    "$$F_0=1$$\n",
    "$$F_1=1$$\n",
    "$$F_i=F_{i-1}+F_{i-2}, \\forall i \\ge 2$$\n",
    "\n",
    "Задача: вывести первые $n$ чисел фибоначи. Такое задание тоже часто бывает на собеседованиях."
   ]
  },
  {
   "cell_type": "code",
   "execution_count": 2,
   "metadata": {},
   "outputs": [],
   "source": [
    "n = 11\n",
    "\n",
    "# your code here"
   ]
  },
  {
   "cell_type": "markdown",
   "metadata": {},
   "source": [
    "### Часть 5. Списки (14 баллов)"
   ]
  },
  {
   "cell_type": "markdown",
   "metadata": {},
   "source": [
    "24. (2 балла) Сформировать следующий список:\n",
    "\n",
    "например, при $n = 10$:\n",
    "\n",
    "`[5, 4, 3, 2, 1, 0, 1, 2, 3, 4, 5]`\n",
    "\n",
    "при $n = 7$:\n",
    "\n",
    "`[3, 2, 1, 0, 1, 2, 3]`\n"
   ]
  },
  {
   "cell_type": "markdown",
   "metadata": {},
   "source": [
    "* _В $n$ можно подставить любое число (отличное от 10, 7 и 15 и ваш код все равно должен работать)_\n",
    "* _можно заработать + 1 балл к заданию, если сделать его в одну строку_"
   ]
  },
  {
   "cell_type": "code",
   "execution_count": 15,
   "metadata": {},
   "outputs": [
    {
     "name": "stdout",
     "output_type": "stream",
     "text": [
      "[7, 6, 5, 4, 3, 2, 1, 0, 1, 2, 3, 4, 5, 6, 7]\n"
     ]
    }
   ],
   "source": [
    "n = 15\n",
    "x = []\n",
    "\n",
    "# your code here\n",
    "\n",
    "print(x)"
   ]
  },
  {
   "cell_type": "markdown",
   "metadata": {},
   "source": [
    "25. (2 балла) Даны два списка. \"Слить\" их через один (чередуя элементы то одного, то другого списка).\n",
    "\n",
    "`f = [1,2,3]`\n",
    "\n",
    "`s = ['1','2','3']`\n",
    "\n",
    "Ожидаемый результат:\n",
    "\n",
    "`[1, '1', 2, '2', 3, '3']`\n"
   ]
  },
  {
   "cell_type": "markdown",
   "metadata": {},
   "source": [
    "* _Список может быть любого размера, а ваш код все равно должен работать._\n",
    "* _можно заработать + 2 балла к заданию, если сделать его в одну строку_"
   ]
  },
  {
   "cell_type": "code",
   "execution_count": 9,
   "metadata": {},
   "outputs": [
    {
     "name": "stdout",
     "output_type": "stream",
     "text": [
      "[1, '1', 2, '2', 3, '3', 4, '4', 5, '5', 6, '6']\n"
     ]
    }
   ],
   "source": [
    "f = [1,2,3,4,5,6]\n",
    "s = ['1','2','3','4','5','6']\n",
    "\n",
    "# your code here"
   ]
  },
  {
   "cell_type": "markdown",
   "metadata": {},
   "source": [
    "26. (4 балла) Создайте следующий лист: \n",
    "\n",
    "`months = [\n",
    "'Декабрь', 'Январь', 'Февраль',\n",
    "'Март', 'Апрель', 'Май',\n",
    "'Июнь', 'Июль', 'Август',\n",
    "'Сентябрь', 'Октябрь', 'Ноябрь'\n",
    "]`. \n",
    "\n",
    "Ваша задача получить из него:\n",
    "    - все зимние месяцы\n",
    "    - все летние месяцы\n",
    "    - каждый второй месяц года начиная с Января\n",
    "    - первые месяцы каждого сезона (4),\n",
    "\n",
    "используя `slice`."
   ]
  },
  {
   "cell_type": "code",
   "execution_count": 18,
   "metadata": {},
   "outputs": [],
   "source": [
    "# your code here"
   ]
  },
  {
   "cell_type": "markdown",
   "metadata": {},
   "source": [
    "27. (3 балла) Создайте list \n",
    "\n",
    "`weekdays = ['Понедельник', 2, 'Cреда', 'Четверг', 5]`\n",
    "\n",
    "- Исправьте числа 2 и 5 на Вторник и Пятницу соответственно\n",
    "- Добавьте недостающие дни в конец списка\n",
    "- Посчитайте длину итогового листа"
   ]
  },
  {
   "cell_type": "code",
   "execution_count": 19,
   "metadata": {},
   "outputs": [],
   "source": [
    "# your code here"
   ]
  },
  {
   "cell_type": "markdown",
   "metadata": {},
   "source": [
    "28. (3 балла) Создайте строку (str) `'йтцыу фочтмлзирчйнбою асапырйафвялгяшещшоьрскяу!й'`\n",
    "\n",
    "    - Превратите ее в лист символов\n",
    "    - Расшифруйте закодированное в ней сообщение, выбрав из всех символов только символы с **нечетным** индексом\n",
    "    - Превратите полученный лист обратно в строку и напечатайте результат\n",
    "\n",
    "**Hint** вам понадобится функция `.join()`"
   ]
  },
  {
   "cell_type": "code",
   "execution_count": 20,
   "metadata": {},
   "outputs": [],
   "source": [
    "# your code here"
   ]
  },
  {
   "cell_type": "markdown",
   "metadata": {},
   "source": [
    "### Часть 8. Кортежи (3 балла)"
   ]
  },
  {
   "cell_type": "markdown",
   "metadata": {},
   "source": [
    "29. (1 балл) Создать кортеж из одного элемента."
   ]
  },
  {
   "cell_type": "code",
   "execution_count": 17,
   "metadata": {},
   "outputs": [],
   "source": [
    "# your code here"
   ]
  },
  {
   "cell_type": "markdown",
   "metadata": {},
   "source": [
    "30. (1 балл) Создайте кортеж из списка, напечатайте его.\n",
    "\n",
    "`months = [\n",
    "'Январь', 'Февраль',\n",
    "'Март', 'Апрель', 'Май',\n",
    "'Июнь', 'Июль', 'Август',\n",
    "'Сентябрь', 'Октябрь', 'Ноябрь'\n",
    "]`"
   ]
  },
  {
   "cell_type": "code",
   "execution_count": null,
   "metadata": {},
   "outputs": [],
   "source": [
    "# your code here"
   ]
  },
  {
   "cell_type": "markdown",
   "metadata": {},
   "source": [
    "31. (1 балл) Добавьте недостающий месяц в созданный вами `set`"
   ]
  },
  {
   "cell_type": "code",
   "execution_count": 22,
   "metadata": {},
   "outputs": [],
   "source": [
    "# your code here"
   ]
  },
  {
   "cell_type": "markdown",
   "metadata": {},
   "source": [
    "### Часть 7. Сеты (4 балла)"
   ]
  },
  {
   "cell_type": "markdown",
   "metadata": {},
   "source": [
    "32. (1 балл) Посчитать, сколько различных букв в слове 'превысокомногорассмотрительствующий'"
   ]
  },
  {
   "cell_type": "code",
   "execution_count": 23,
   "metadata": {},
   "outputs": [],
   "source": [
    "# your code here"
   ]
  },
  {
   "cell_type": "markdown",
   "metadata": {},
   "source": [
    "33. (1 балл) Какие различные буквы имеют слова \"превысокомногорассмотрительствующий\" и \"водогрязеторфопарафинолечение\"?"
   ]
  },
  {
   "cell_type": "code",
   "execution_count": null,
   "metadata": {},
   "outputs": [],
   "source": [
    "# your code here"
   ]
  },
  {
   "cell_type": "markdown",
   "metadata": {},
   "source": [
    "34. (1 балл) Какие общие буквы имеют слова \"превысокомногорассмотрительствующий\" и \"водогрязеторфопарафинолечение\"?"
   ]
  },
  {
   "cell_type": "code",
   "execution_count": null,
   "metadata": {},
   "outputs": [],
   "source": [
    "# your code here"
   ]
  },
  {
   "cell_type": "markdown",
   "metadata": {},
   "source": [
    "35. (1 балл) Есть ли буквы в слове \"превысокомногорассмотрительствующий\", которых нет в слове \"водогрязеторфопарафинолечение\"? А наоборот?"
   ]
  },
  {
   "cell_type": "code",
   "execution_count": null,
   "metadata": {},
   "outputs": [],
   "source": [
    "# your code here"
   ]
  },
  {
   "cell_type": "markdown",
   "metadata": {},
   "source": [
    "### Часть 6. Словари и полезные вещи (20 баллов)"
   ]
  },
  {
   "cell_type": "code",
   "execution_count": 67,
   "metadata": {},
   "outputs": [],
   "source": [
    "text = \"\"\"1. DJ Khaled замутил трек, в котором читает только Drake. \n",
    "2. Drake организовал на эту песню очень крутой клип, в котором вместо него снимается только Джастин Бибер.\n",
    "\n",
    "Видимо, награду за всё это будет получать Леонардо ДиКаприо 😅\n",
    "\n",
    "В клипе Джастин, кстати, выглядит очень бодрым и наконец выздоровевшим от болезней и депрессии.\n",
    "Отдельный прикол в том, что он там «читает» строчки про свою бывшую девушку Селену Гомес, про себя самого и про то, насколько Дрейк - круче их всех и взрывает индустрию 😂🤟\"\"\""
   ]
  },
  {
   "cell_type": "markdown",
   "metadata": {},
   "source": [
    "36. (1 балл) Приведите текст к нижнему регистру "
   ]
  },
  {
   "cell_type": "code",
   "execution_count": 48,
   "metadata": {},
   "outputs": [],
   "source": [
    "# your code here"
   ]
  },
  {
   "cell_type": "markdown",
   "metadata": {},
   "source": [
    "37. (1 балл) Разделите текст на предложения (используя `\"\\n\"`) "
   ]
  },
  {
   "cell_type": "code",
   "execution_count": 50,
   "metadata": {},
   "outputs": [],
   "source": [
    "# your code here"
   ]
  },
  {
   "cell_type": "markdown",
   "metadata": {},
   "source": [
    "38. (2 балла) Разделите предложения на слова, удалите пунктуацию до и после слов, используя `.strip()`. И кавычки тоже."
   ]
  },
  {
   "cell_type": "code",
   "execution_count": 45,
   "metadata": {},
   "outputs": [],
   "source": [
    "# your code here"
   ]
  },
  {
   "cell_type": "markdown",
   "metadata": {},
   "source": [
    "39. (2 балла) Создайте словарь, в котором ключ -- слово из текста, а значение -- количество раз, сколько оно встречается во всем тексте.\n",
    "\n",
    "например:\n",
    "\n",
    "`dct = {\"go\": 1, \"went\": 2, \"gone\": 3}`\n",
    "\n",
    "Напечатайте словарь"
   ]
  },
  {
   "cell_type": "code",
   "execution_count": 55,
   "metadata": {},
   "outputs": [],
   "source": [
    "# your code here"
   ]
  },
  {
   "cell_type": "markdown",
   "metadata": {},
   "source": [
    "40. (2 балла) Напечатайте слова, встречающиеся более 1 раза в формате `\"слово кол-во раз\"` через пробел.\n",
    "\n",
    "    * Если сможете напечатать в порядке убывания (от большего к меньшему) + 2 балла"
   ]
  },
  {
   "cell_type": "code",
   "execution_count": 63,
   "metadata": {},
   "outputs": [],
   "source": [
    "# your code here"
   ]
  },
  {
   "cell_type": "markdown",
   "metadata": {},
   "source": [
    "Это все замечательно, но, как мы видим, слова не приведены к начальной форме и наши подсчеты не совсем верны. Давайте это исправим."
   ]
  },
  {
   "cell_type": "markdown",
   "metadata": {},
   "source": [
    "Текст приведен к начальной форме уже за вас (мы это научимся делать на следующем занятии). От вас требуется повторить действия выше."
   ]
  },
  {
   "cell_type": "code",
   "execution_count": 75,
   "metadata": {},
   "outputs": [],
   "source": [
    "lemmatized_text = \"\"\"1. DJ Khaled замутить трек, в который читать только Drake. \n",
    "2. Drake организовывать на этот песня очень крутой клип, в который вместо он сниматься только джастин бибер.\n",
    "\n",
    "видимо, награда за весь это быть получать леонардо дикаприо 😅\n",
    "\n",
    "в клип джастин, кстати, выглядеть очень бодрый и наконец выздоравливать от болезнь и депрессия.\n",
    "отдельный прикол в то, что он там «читать» строчка про свой бывший девушка селен гомес, про себя сам и про то, насколько дрейк - крутой они все и взрывать индустрия 😂🤟\"\"\""
   ]
  },
  {
   "cell_type": "markdown",
   "metadata": {},
   "source": [
    "41. (6 баллов) Повторите задания 34-37 для лемматизированного текста."
   ]
  },
  {
   "cell_type": "code",
   "execution_count": 76,
   "metadata": {},
   "outputs": [],
   "source": [
    "# your code here"
   ]
  },
  {
   "cell_type": "markdown",
   "metadata": {},
   "source": [
    "42. (2 балла) Эквивалентно заданию 38. Напечатайте слова, встречающиеся в новом словаре более 1 раза в формате `\"слово кол-во раз\"` через пробел."
   ]
  },
  {
   "cell_type": "code",
   "execution_count": 85,
   "metadata": {},
   "outputs": [],
   "source": [
    "# your code here"
   ]
  },
  {
   "cell_type": "markdown",
   "metadata": {},
   "source": [
    "43. (4 балла) Сравните полученные списки. Посмотрите, какие новые слова появились. Напечатайте эти новые слова.\n",
    "\n",
    "*Hint: с помошью чего сравнить отличия между двумя контейнерами проще всего?*"
   ]
  },
  {
   "cell_type": "code",
   "execution_count": 97,
   "metadata": {},
   "outputs": [],
   "source": [
    "# your code here"
   ]
  },
  {
   "cell_type": "markdown",
   "metadata": {},
   "source": [
    "#### Напишите ниже вашу обратную связь по домашнему заданию в комментарии. \n",
    "\n",
    "#### Какие задания показались вам самыми сложными / простыми? Что понравилось, а что нет?"
   ]
  },
  {
   "cell_type": "code",
   "execution_count": null,
   "metadata": {},
   "outputs": [],
   "source": []
  }
 ],
 "metadata": {
  "kernelspec": {
   "display_name": "Python 3",
   "language": "python",
   "name": "python3"
  },
  "language_info": {
   "codemirror_mode": {
    "name": "ipython",
    "version": 3
   },
   "file_extension": ".py",
   "mimetype": "text/x-python",
   "name": "python",
   "nbconvert_exporter": "python",
   "pygments_lexer": "ipython3",
   "version": "3.6.6"
  }
 },
 "nbformat": 4,
 "nbformat_minor": 2
}
